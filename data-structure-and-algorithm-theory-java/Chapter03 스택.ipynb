{
 "cells": [
  {
   "cell_type": "markdown",
   "id": "f8edce1e",
   "metadata": {},
   "source": [
    "# 꼭 알아둬야 할 자료 구조: 스택(Stack)\n",
    "\n",
    "* 데이터를 제한적으로 접근할 수 있는 구조\n",
    "    * 한쪽 끝에서만 자료를 넣거나 뺄 수 있는 구조\n",
    "* 가장 나중에 쌓은 데이터를 가장 먼저 빼낼 수 있는 데이터 구조\n",
    "    * 큐: FIFO 정책\n",
    "    * 스택: LIFO 정책"
   ]
  },
  {
   "cell_type": "markdown",
   "id": "0a06400a",
   "metadata": {},
   "source": [
    "# 1. 스택 구조\n",
    "\n",
    "* 스택은 LIFO(Last In, First Out) 또는 FILO(First In, Last Out) 데이터 관리 방식을 따름\n",
    "    * LIFO: 마지막에 넣은 데이터를 가장 먼저 추출하는 데이터 관리 정책\n",
    "    * FILO: 처음에 넣은 데이터를 가장 마지막에 추출하는 데이터 관리 정책\n",
    "* 대표적인 스택의 활용\n",
    "    * 컴퓨터 내부의 프로세스 구조의 함수 동작 방식\n",
    "* 주요 기능\n",
    "    * push(): 데이터를 스택에 넣기\n",
    "    * pop(): 데이터를 스택에서 꺼내기\n",
    "    \n",
    "<img src=\"https://www.fun-coding.org/00_Images/stack.png\" />"
   ]
  },
  {
   "cell_type": "markdown",
   "id": "788143fd",
   "metadata": {},
   "source": [
    "## 2. 자료 구조 스택의 장단점\n",
    "\n",
    "* 장점\n",
    "    * 구조가 단순해서, 구현이 쉽다.\n",
    "    * 데이터 저장/읽기 속도가 빠르다.\n",
    "* 단점(일반적인 스택 구현시)\n",
    "    * 데이터 최대 갯수를 미리 정해야한다.\n",
    "    * 저장 공간의 낭비가 발생할 수 있음.\n",
    "        * 미리 최대 갯수만큼 저장 공간을 확보해야 함\n",
    "        \n",
    "> 스택은 단순하고 빠른 성능을 위해 사용되므로, 보통 배열 구조를 활용해서 구현하는 것이 일반적임. 이 경우, 위에서 열거한 단점이 있을 수 있음."
   ]
  },
  {
   "cell_type": "markdown",
   "id": "1e32c8b8",
   "metadata": {},
   "source": [
    "## 3. JAVA 에서의 스택 자료 구조 사용하기\n",
    "\n",
    "### JAVA Stack 클래스\n",
    "\n",
    "* java.util 패키지에서 Stack 클래스 제공\n",
    "    * push(아이템) 메서드: 아이템을 Stack에 추가\n",
    "    * pop() 메서드: Stack에서 마지막에 넣은 아이템을 리턴하고, 해당 아이템은 Stack에서 삭제"
   ]
  },
  {
   "cell_type": "markdown",
   "id": "90124812",
   "metadata": {},
   "source": [
    "### Stack 클래스 사용해보기"
   ]
  },
  {
   "cell_type": "code",
   "execution_count": 1,
   "id": "bdd6a77c",
   "metadata": {},
   "outputs": [],
   "source": [
    "// java.util.Stack 클래스 임포트\n",
    "import java.util.Stack;\n",
    "\n",
    "// 자료형 매개변수를 넣어서, 스택에 들어갈 데이터의 타입을 지정해야 함\n",
    "Stack<Integer> stack_int = new Stack<Integer>(); // Integer 형 스택 선언"
   ]
  },
  {
   "cell_type": "code",
   "execution_count": 3,
   "id": "03f3bce6",
   "metadata": {},
   "outputs": [
    {
     "data": {
      "text/plain": [
       "3"
      ]
     },
     "execution_count": 3,
     "metadata": {},
     "output_type": "execute_result"
    }
   ],
   "source": [
    "stack_int.push(1); // Stack에 1 추가\n",
    "stack_int.push(2); // Stack에 2 추가\n",
    "stack_int.push(3); // Stack에 3 추가 \n",
    "\n",
    "// (출력에 나온 부분은 push() 성공 시, 해당 아이템을 리턴해주기 때문임)"
   ]
  },
  {
   "cell_type": "code",
   "execution_count": 4,
   "id": "1cf97d42",
   "metadata": {},
   "outputs": [
    {
     "data": {
      "text/plain": [
       "3"
      ]
     },
     "execution_count": 4,
     "metadata": {},
     "output_type": "execute_result"
    }
   ],
   "source": [
    "stack_int.pop(); // Stack 에서 데이터 추출 (마지막에 넣은 3이 출력)"
   ]
  },
  {
   "cell_type": "code",
   "execution_count": 5,
   "id": "304492a9",
   "metadata": {},
   "outputs": [
    {
     "data": {
      "text/plain": [
       "2"
      ]
     },
     "execution_count": 5,
     "metadata": {},
     "output_type": "execute_result"
    }
   ],
   "source": [
    "// Stack 에서 데이터 추출\n",
    "// (현재 Stack에 있는 데이터 중, 가장 나중에 넣어진 데이터 출력)\n",
    "stack_int.pop();"
   ]
  },
  {
   "cell_type": "code",
   "execution_count": 6,
   "id": "506a9c36",
   "metadata": {},
   "outputs": [
    {
     "data": {
      "text/plain": [
       "1"
      ]
     },
     "execution_count": 6,
     "metadata": {},
     "output_type": "execute_result"
    }
   ],
   "source": [
    "stack_int.pop(); // Stack에 값 제거"
   ]
  },
  {
   "cell_type": "markdown",
   "id": "79fd98e3",
   "metadata": {},
   "source": [
    "## 4. 프로그래밍 연습"
   ]
  },
  {
   "cell_type": "markdown",
   "id": "0d2ffe7e",
   "metadata": {},
   "source": [
    "### 연습해보기\n",
    "\n",
    "* JAVA ArrayList 클래스를 활용해서 스택을 다루는 push, pop 기능을 구현해보기\n",
    "* pop 기능 호출 시, 스택에 데이터가 없을 경우, null을 리턴하도록 함\n",
    "* 다양한 데이터 타입을 다룰 수 있도록, Java Generic 타입 문법을 활용해보기"
   ]
  },
  {
   "cell_type": "code",
   "execution_count": 7,
   "id": "6985d220",
   "metadata": {},
   "outputs": [],
   "source": [
    "import java.util.ArrayList;\n",
    "\n",
    "public class Stack<T> {\n",
    "    \n",
    "    private List<T> stack = new ArrayList<T>();\n",
    "    \n",
    "    public void push(T data) {\n",
    "        this.stack.add(data);\n",
    "    }\n",
    "    \n",
    "    public T pop() {\n",
    "        if (this.stack.isEmpty()) {\n",
    "            return null;\n",
    "        }\n",
    "        return this.stack.remove(this.stack.size() - 1);\n",
    "    }\n",
    "    \n",
    "    public boolean isEmpty() {\n",
    "        return this.stack.isEmpty();\n",
    "    }\n",
    "\n",
    "    public static void main(String[] args) {\n",
    "        Stack<Integer> stack = new Stack<Integer>();\n",
    "        stack.push(1);\n",
    "        stack.push(2);\n",
    "        System.out.println(stack.pop());\n",
    "        stack.push(3);\n",
    "        System.out.println(stack.pop());\n",
    "        System.out.println(stack.pop());\n",
    "    }\n",
    "}"
   ]
  }
 ],
 "metadata": {
  "kernelspec": {
   "display_name": "Java",
   "language": "java",
   "name": "java"
  },
  "language_info": {
   "codemirror_mode": "java",
   "file_extension": ".jshell",
   "mimetype": "text/x-java-source",
   "name": "Java",
   "pygments_lexer": "java",
   "version": "11.0.14+8-LTS-263"
  }
 },
 "nbformat": 4,
 "nbformat_minor": 5
}
