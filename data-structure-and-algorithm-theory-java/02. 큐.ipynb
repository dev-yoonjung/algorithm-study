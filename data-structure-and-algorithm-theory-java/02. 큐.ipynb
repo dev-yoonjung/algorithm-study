{
 "cells": [
  {
   "cell_type": "code",
   "execution_count": 1,
   "id": "d28e0c70",
   "metadata": {},
   "outputs": [],
   "source": [
    "// Queue 사용을 위해, LinkedList 클래스를 사용하므로, 두 클래스 모두 import를 해야합니다.\n",
    "import java.util.LinkedList;\n",
    "import java.util.Queue;\n",
    "\n",
    "// 자료형 매개변수를 넣어서, 큐에 들어갈 데이터의 타입을 지정해야 합니다.\n",
    "Queue<Integer> queue_int = new LinkedList<>(); // Integer형 queue 선언\n",
    "Queue<String> queue_str = new LinkedList<>(); // String형 queue 선언"
   ]
  },
  {
   "cell_type": "code",
   "execution_count": 2,
   "id": "6c844dc6",
   "metadata": {},
   "outputs": [
    {
     "data": {
      "text/plain": [
       "true"
      ]
     },
     "execution_count": 2,
     "metadata": {},
     "output_type": "execute_result"
    }
   ],
   "source": [
    "// 데이터 추가는 add(value) 또는 offer(value)를 사용합니다.\n",
    "queue_int.add(1);\n",
    "queue_int.offer(2);\n",
    "\n",
    "// 출력에 true라고 출력되는 부분은 offer() 메서드가 리턴한 값입니다."
   ]
  },
  {
   "cell_type": "code",
   "execution_count": 3,
   "id": "ccc79cb7",
   "metadata": {},
   "outputs": [
    {
     "name": "stdout",
     "output_type": "stream",
     "text": [
      "[1, 2]\n"
     ]
    }
   ],
   "source": [
    "// Queue 인스턴스를 출력하면, 해당 queue에 들어 있는 아이템 리스트가 출력됩니다.\n",
    "System.out.println(queue_int);"
   ]
  },
  {
   "cell_type": "code",
   "execution_count": 4,
   "id": "6dcae811",
   "metadata": {},
   "outputs": [
    {
     "data": {
      "text/plain": [
       "1"
      ]
     },
     "execution_count": 4,
     "metadata": {},
     "output_type": "execute_result"
    }
   ],
   "source": [
    "// poll()은 첫 번째 값을 반환하고, 해당 값은 큐에서 삭제됩니다. \n",
    "queue_int.poll();"
   ]
  },
  {
   "cell_type": "code",
   "execution_count": 5,
   "id": "e90dfea2",
   "metadata": {},
   "outputs": [
    {
     "name": "stdout",
     "output_type": "stream",
     "text": [
      "[2]\n"
     ]
    }
   ],
   "source": [
    "// 바로 현재 큐의 아이템을 확인해보면, poll()을 통해 반환된 값은 삭제되었음을 알 수 있습니다.\n",
    "System.out.println(queue_int);"
   ]
  },
  {
   "cell_type": "code",
   "execution_count": 6,
   "id": "d9e2ee83",
   "metadata": {},
   "outputs": [
    {
     "data": {
      "text/plain": [
       "2"
      ]
     },
     "execution_count": 6,
     "metadata": {},
     "output_type": "execute_result"
    }
   ],
   "source": [
    "// remove()도 마찬가지로, 첫 번째 값을 반환하고, 해당 값은 큐에서 삭제됩니다. \n",
    "queue_int.remove();"
   ]
  },
  {
   "cell_type": "code",
   "execution_count": 8,
   "id": "2348a799",
   "metadata": {},
   "outputs": [
    {
     "name": "stdout",
     "output_type": "stream",
     "text": [
      "[]\n"
     ]
    }
   ],
   "source": [
    "// 현재 큐의 아이템을 확인해보면, 결국 모두 삭제되었음을 확인할 수 있습니다.\n",
    "System.out.println(queue_int);"
   ]
  },
  {
   "cell_type": "code",
   "execution_count": 12,
   "id": "c91c4a0a",
   "metadata": {},
   "outputs": [],
   "source": [
    "// JAVA ArrayList클래스를 활용해서 큐를 다루는 enqueue, dequeue 기능을 구현해보기\n",
    "// dequeue 기능 호출 시, 큐에 데이터가 없을 경우, null을 리턴하도록 함\n",
    "// 다양한 데이터 타입을 다룰 수 있도록, Java Generic 타입 문법을 활용해보기\n",
    "import java.util.ArrayList;\n",
    "import java.util.List;\n",
    "\n",
    "public class MyQueue<T> {\n",
    "\n",
    "    private final List<T> queue = new ArrayList<>();\n",
    "\n",
    "    public void enqueue(T item) {\n",
    "        this.queue.add(item);\n",
    "    }\n",
    "\n",
    "    public T dequeue() {\n",
    "        if (this.queue.isEmpty()) {\n",
    "            return null;\n",
    "        }\n",
    "\n",
    "        return this.queue.remove(0);\n",
    "    }\n",
    "\n",
    "    public boolean isEmpty() {\n",
    "        return this.queue.isEmpty();\n",
    "    }\n",
    "}\n"
   ]
  },
  {
   "cell_type": "code",
   "execution_count": 13,
   "id": "34aa2ff1",
   "metadata": {},
   "outputs": [],
   "source": [
    "public class Main {\n",
    "\n",
    "    public static void main(String[] args) {\n",
    "        MyQueue<Integer> mq = new MyQueue<>();\n",
    "\n",
    "        mq.enqueue(1);\n",
    "        mq.enqueue(2);\n",
    "        mq.enqueue(3);\n",
    "\n",
    "        System.out.println(mq.dequeue());\n",
    "        System.out.println(mq.dequeue());\n",
    "        System.out.println(mq.dequeue());\n",
    "        System.out.println(mq.dequeue());\n",
    "\n",
    "        System.out.println(mq.isEmpty());\n",
    "    }\n",
    "}\n"
   ]
  },
  {
   "cell_type": "code",
   "execution_count": 16,
   "id": "c0e379d2",
   "metadata": {},
   "outputs": [
    {
     "name": "stdout",
     "output_type": "stream",
     "text": [
      "1\n",
      "2\n",
      "3\n",
      "null\n",
      "true\n"
     ]
    }
   ],
   "source": [
    "Main.main(new String[0]);"
   ]
  }
 ],
 "metadata": {
  "kernelspec": {
   "display_name": "Java",
   "language": "java",
   "name": "java"
  },
  "language_info": {
   "codemirror_mode": "java",
   "file_extension": ".jshell",
   "mimetype": "text/x-java-source",
   "name": "Java",
   "pygments_lexer": "java",
   "version": "11.0.14+8-LTS-263"
  }
 },
 "nbformat": 4,
 "nbformat_minor": 5
}
