{
 "cells": [
  {
   "cell_type": "markdown",
   "id": "3f3ea671",
   "metadata": {},
   "source": [
    "# 꼭 알아둬야 할 자료 구조: 배열(Array)\n",
    "\n",
    "* 데이터를 나열하고, 각 데이터를 인덱스에 대응하도록 구성한 데이터 구조\n",
    "* 파이썬에서는 리스트 타입이 배열 기능을 제공함"
   ]
  },
  {
   "cell_type": "markdown",
   "id": "3e2ca50d",
   "metadata": {},
   "source": [
    "## 1. 배열은 왜 필요할까?\n",
    "\n",
    "* 같은 종류의 데이터를 효율적으로 관리하기 위해 사용\n",
    "* 같은 종류의 데이터를 순차적으로 저장\n",
    "* 장점:\n",
    "    * 빠른 접근 가능\n",
    "        * 첫 데이터의 위치에서 상대적인 위치로 데이터 접근(인덱스 번호로 접근)\n",
    "* 단점:\n",
    "    * 데이터 추가/삭제의 어려움\n",
    "        * 미리 최대 길이를 지정해야 함"
   ]
  },
  {
   "cell_type": "markdown",
   "id": "80d41e71",
   "metadata": {},
   "source": [
    "### 참고 Primitive 자료형과 Wrapper 클래스\n",
    "\n",
    "* JAVA에서는 int와 Integer와 같이, Primitive 자료형과 Wrapper 클래스가 있음\n",
    "* Integer와 같은 Wrapper 클래스가 다음과 같은 이유로 사용되며, 가급적 복잡도를 낮추기 위해 Primitive와 마구 혼용하기 보다는 주로  Wrapper 클래스를 사용하기로 함\n",
    "    * null을 용이하게 처리할 수 있고,\n",
    "    * ArrayList 등 객체만을 핸들링하는 기능을 사용하기 위해"
   ]
  },
  {
   "cell_type": "markdown",
   "id": "4be9f432",
   "metadata": {},
   "source": [
    "## 2. JAVA와 배열\n",
    "\n",
    "### JAVA에서는 기본 문법으로 배열 지원\n",
    "* 1차원 배열은 [ ]를 통해 선언할 수 있음\n",
    "* 각 아이템은 { } 내에 콤마로 작성"
   ]
  },
  {
   "cell_type": "code",
   "execution_count": 1,
   "id": "2fe85ca9",
   "metadata": {},
   "outputs": [
    {
     "data": {
      "text/plain": [
       "1"
      ]
     },
     "execution_count": 1,
     "metadata": {},
     "output_type": "execute_result"
    }
   ],
   "source": [
    "// new 키워드를 사용해서, 배열을 미리 선언하고 데이터를 넣을 수도 있음\n",
    "Integer[] data_list = new Integer[10];\n",
    "data_list[0] = 1;"
   ]
  },
  {
   "cell_type": "code",
   "execution_count": 2,
   "id": "e57ad826",
   "metadata": {},
   "outputs": [
    {
     "name": "stdout",
     "output_type": "stream",
     "text": [
      "1\n"
     ]
    }
   ],
   "source": [
    "// 직접 배열 데이터 선언 시 넣을 수도 있음\n",
    "Integer data_list1[] = {5, 4, 3, 2, 1};\n",
    "Integer[] data_list2 = {1, 2, 3, 4, 5};\n",
    "\n",
    "System.out.println(data_list2[0]);"
   ]
  },
  {
   "cell_type": "markdown",
   "id": "6b687927",
   "metadata": {},
   "source": [
    "### JAVA에서 배열을 보다 손쉽게 다루기 위한 클래스 등을 제공\n",
    "\n",
    "* 예: Arrays 클래스를 활용하여, 전체 데이터 출력하기"
   ]
  },
  {
   "cell_type": "code",
   "execution_count": 3,
   "id": "f25f7ea7",
   "metadata": {},
   "outputs": [
    {
     "name": "stdout",
     "output_type": "stream",
     "text": [
      "[1, 2, 3, 4, 5]\n"
     ]
    }
   ],
   "source": [
    "import java.util.Arrays;\n",
    "\n",
    "// 배열의 내용을 출력하려면, Arrays.toString(배열변수) 메서드를 사용하면 됨\n",
    "System.out.println(Arrays.toString(data_list2));"
   ]
  },
  {
   "cell_type": "markdown",
   "id": "23287340",
   "metadata": {},
   "source": [
    "### JAVA에서 배열을 보다 손쉽게 다루기 위한 ArrayList 클래스 예\n",
    "\n",
    "* ArrayList 클래스는 가변 길이의 배열 자료구조를 다룰 수 있는 기능을 제공함"
   ]
  },
  {
   "cell_type": "markdown",
   "id": "4d39d86e",
   "metadata": {},
   "source": [
    "### 참고 List와 ArrayList\n",
    "\n",
    "* 다음과 같이 List와 ArrayList 선언의 차이점\n",
    "\n",
    "```\n",
    "    List<Integer> list1 = new ArrayList<Integer>();\n",
    "    ArrayList<Integer> list1 = new ArrayList<Integer>();    \n",
    "```\n",
    "\n",
    "* List는 인터페이스이고, ArrayList는 클래스\n",
    "    * 클래스는 크게 일반 클래스와 클래스 내에 '추상 메서드'가 하나 이상 있거나,abstract로 정의된 추상 클래스로 나뉨\n",
    "    * 인터페이스는 모든 메서드가 추상 메서드인 경우를 의미하며, 인터페이스를 상속받는 클래스는 인터페이스에서 정의된 추상 메서드를 모두 구현해야 함 **(따라서 다양한 클래스를 상속받는 특정 인터페이스는 결국 동일한 메서드를 제공함)**\n",
    "    * ArrayList가 아니라, List로 선언된 변수는 다음과 같이 필요에 따라 다른 리스트 클래스를 쓸 수 있는 **구현상의 유연성** 을 제공함\n",
    "\n",
    "    ```\n",
    "        List<Integer> list1 = new ArrayList<Integer>();\n",
    "        list1 = new LinkedList<Integer>();\n",
    "    ```\n",
    "    * 이외에 JDK 1.7 이상부터는 인스턴스 생성 시 타입을 추정할 수 있는 경우에는 타입을 생략할 수 있음\n",
    "    ```\n",
    "        ArrayList<Integer> list1 = new ArrayList<>();\n",
    "    ```"
   ]
  },
  {
   "cell_type": "code",
   "execution_count": 4,
   "id": "725ed3f5",
   "metadata": {},
   "outputs": [],
   "source": [
    "// JAVA에서는 기본적으로 java.util 패키지에 \n",
    "// 가변 크기의 배열을 다를 수 있는 ArrayList 클래스도 제공하고 있음\n",
    "import java.util.ArrayList;\n",
    "\n",
    "// int형 데이터를 담을 수 있는 가변 길이의 배열 선언\n",
    "ArrayList<Integer> list1 = new ArrayList<Integer>(); "
   ]
  },
  {
   "cell_type": "code",
   "execution_count": 5,
   "id": "4f84d839",
   "metadata": {},
   "outputs": [
    {
     "data": {
      "text/plain": [
       "1"
      ]
     },
     "execution_count": 5,
     "metadata": {},
     "output_type": "execute_result"
    }
   ],
   "source": [
    "list1.add(1); // 배열에 아이템 추가 시 add(아이템) 메서드 사용\n",
    "list1.add(2);\n",
    "list1.get(0); // 배열에 특정 아이템을 읽을 시 get(인덱스번호) 메서드 사용"
   ]
  },
  {
   "cell_type": "code",
   "execution_count": 6,
   "id": "162f186b",
   "metadata": {},
   "outputs": [
    {
     "data": {
      "text/plain": [
       "5"
      ]
     },
     "execution_count": 6,
     "metadata": {},
     "output_type": "execute_result"
    }
   ],
   "source": [
    "// 특정 인덱스에 해당하는 아이템 변경 시, \n",
    "// set(인덱스번호, 변경할 값) 메서드 사용\n",
    "list1.set(0, 5); \n",
    "list1.get(0);"
   ]
  },
  {
   "cell_type": "code",
   "execution_count": 7,
   "id": "d6247f05",
   "metadata": {},
   "outputs": [
    {
     "data": {
      "text/plain": [
       "2"
      ]
     },
     "execution_count": 7,
     "metadata": {},
     "output_type": "execute_result"
    }
   ],
   "source": [
    "// 특정 인덱스에 해당하는 아이템 삭제 시, remove(인덱스번호) 메서드 사용\n",
    "list1.remove(0);\n",
    "list1.get(0);"
   ]
  },
  {
   "cell_type": "code",
   "execution_count": 8,
   "id": "5d583b12",
   "metadata": {},
   "outputs": [
    {
     "data": {
      "text/plain": [
       "1"
      ]
     },
     "execution_count": 8,
     "metadata": {},
     "output_type": "execute_result"
    }
   ],
   "source": [
    "// 배열 길이 확인하기\n",
    "list1.size();"
   ]
  },
  {
   "cell_type": "markdown",
   "id": "6042352b",
   "metadata": {},
   "source": [
    "### JAVA에서는 기본 문법으로 다차원 배열도 작성 가능(2차원 배열)"
   ]
  },
  {
   "cell_type": "code",
   "execution_count": 9,
   "id": "5c467253",
   "metadata": {},
   "outputs": [
    {
     "name": "stdout",
     "output_type": "stream",
     "text": [
      "2\n",
      "5\n"
     ]
    }
   ],
   "source": [
    "Integer data_list[][] = {{1, 2, 3}, {4, 5, 6}};\n",
    "\n",
    "// 데이터 2 인덱스로 지정해서 출력해보기\n",
    "System.out.println(data_list[0][1]);\n",
    "// 데이터 5 인덱스로 지정해서 출력해보기\n",
    "System.out.println(data_list[1][1]);"
   ]
  },
  {
   "cell_type": "markdown",
   "id": "f9227de8",
   "metadata": {},
   "source": [
    "### JAVA에서는 기본 문법으로 다차원 배열도 작성 가능(3차원 배열)"
   ]
  },
  {
   "cell_type": "code",
   "execution_count": 10,
   "id": "f463d0a6",
   "metadata": {},
   "outputs": [
    {
     "name": "stdout",
     "output_type": "stream",
     "text": [
      "5\n",
      "12\n"
     ]
    }
   ],
   "source": [
    "Integer[][][] data_list = {\n",
    "    {\n",
    "        {1, 2 ,3},\n",
    "        {4, 5, 6}\n",
    "    },\n",
    "    {\n",
    "        {7, 8, 9},\n",
    "        {10, 11, 12}\n",
    "    }\n",
    "};\n",
    "\n",
    "// 데이터 5 인덱스로 지정해서 출력해보기\n",
    "System.out.println(data_list[0][1][1]);\n",
    "// 데이터 12 인덱스로 지정해서 출력해보기\n",
    "System.out.println(data_list[1][1][2]);"
   ]
  },
  {
   "cell_type": "markdown",
   "id": "94c0c276",
   "metadata": {},
   "source": [
    "## 3. 프로그래밍 연습\n",
    "\n",
    "### 연습해보기! \n",
    "\n",
    "위 3차원 배열에서 8, 10, 2를 순서대로 각각 라인에 출력해보기(System.out.println 사용)"
   ]
  },
  {
   "cell_type": "code",
   "execution_count": 11,
   "id": "b9444665",
   "metadata": {},
   "outputs": [
    {
     "name": "stdout",
     "output_type": "stream",
     "text": [
      "8\n",
      "10\n",
      "2\n"
     ]
    }
   ],
   "source": [
    "System.out.println(data_list[1][0][1]); // 8\n",
    "System.out.println(data_list[1][1][0]); // 10\n",
    "System.out.println(data_list[0][0][1]); // 2"
   ]
  },
  {
   "cell_type": "code",
   "execution_count": 12,
   "id": "5570dd29",
   "metadata": {},
   "outputs": [],
   "source": [
    "String dataset[] = {\n",
    "    \"Braund, Mr. Owen Harris\",\n",
    "    \"Cumings, Mrs. John Bradley (Florence Briggs Thayer)\",\n",
    "    \"Heikkinen, Miss. Laina\",\n",
    "    \"Futrelle, Mrs. Jacques Heath (Lily May Peel)\",\n",
    "    \"Allen, Mr. William Henry\",\n",
    "    \"Moran, Mr. James\",\n",
    "    \"McCarthy, Mr. Timothy J\",\n",
    "    \"Palsson, Master. Gosta Leonard\",\n",
    "    \"Johnson, Mrs Oscar W (Elisabeth Vilhelmina Berg)\",\n",
    "    \"Nasser, Mrs. Nicholas (Adele Achem)\",\n",
    "    \"Sandstorm, Miss. Marguerite Rut\",\n",
    "    \"Bonnell, Miss. Elizabeth\",\n",
    "    \"Saundercock, Mr. William Henry\",\n",
    "    \"Andersson, Mr. Anders Johan\",\n",
    "    \"Vestorm, Miss. Hulda Amanda Adolfina\",\n",
    "    \"Hewlett, Mrs. (Mary D Kingcome)\",\n",
    "    \"Rice, Master, Eugene\",\n",
    "    \"Williams, Mr. Charles Eugene\",\n",
    "    \"Vander Planke, Mrs. Julius (Emelia Maria Vandemoortele)\",\n",
    "    \"Masselmani, Mrs. Fatima\",\n",
    "    \"Fynney, Mr. Joseph J\",\n",
    "    \"Beesley, Mr. Lawrence\",\n",
    "    \"Emir, Mr. Rarrend Chehab\",\n",
    "    \"Fortune, Mr. Charles Alexander\",\n",
    "    \"Dwyer, Miss. Ellen\",\n",
    "    \"Todoroff, Mr. Lalio\"\n",
    "};"
   ]
  },
  {
   "cell_type": "markdown",
   "id": "9184c970",
   "metadata": {},
   "source": [
    "### 연습해보기! \n",
    "\n",
    "위 1차원 배열에서, 문자 M을 가지고 있는 아이템의 수를 출력해보기\n",
    "\n",
    "* 참고\n",
    "    * 배열.length: 배열에 들어있는 아이템 갯수\n",
    "    * 문자열.indexOf(String key): 문자 key가 해당 문자열에 있으면 해당 문자의 위치(index 값)를 리턴하고, 없으면 -1을 리턴함."
   ]
  },
  {
   "cell_type": "code",
   "execution_count": 13,
   "id": "b87fd29a",
   "metadata": {},
   "outputs": [
    {
     "name": "stdout",
     "output_type": "stream",
     "text": [
      "26\n"
     ]
    }
   ],
   "source": [
    "int count = 0;\n",
    "\n",
    "for(String data : dataset) {\n",
    "    if (data.indexOf(\"M\") > -1) {\n",
    "        count++;\n",
    "    }\n",
    "}\n",
    "\n",
    "System.out.println(count);"
   ]
  }
 ],
 "metadata": {
  "kernelspec": {
   "display_name": "Java",
   "language": "java",
   "name": "java"
  },
  "language_info": {
   "codemirror_mode": "java",
   "file_extension": ".jshell",
   "mimetype": "text/x-java-source",
   "name": "Java",
   "pygments_lexer": "java",
   "version": "11.0.14+8-LTS-263"
  }
 },
 "nbformat": 4,
 "nbformat_minor": 5
}
