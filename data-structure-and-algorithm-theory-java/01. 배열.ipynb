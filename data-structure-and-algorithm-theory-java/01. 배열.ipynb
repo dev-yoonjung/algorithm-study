{
 "cells": [
  {
   "cell_type": "code",
   "execution_count": 1,
   "id": "58e8e126",
   "metadata": {},
   "outputs": [
    {
     "data": {
      "text/plain": [
       "1"
      ]
     },
     "execution_count": 1,
     "metadata": {},
     "output_type": "execute_result"
    }
   ],
   "source": [
    "// new 키워드를 사용해서, 배열을 미리 선언하고, 데이터를 넣을 수도 있음\n",
    "Integer[] data_list = new Integer[10];\n",
    "data_list[0] = 1;"
   ]
  },
  {
   "cell_type": "code",
   "execution_count": 2,
   "id": "5a30707f",
   "metadata": {},
   "outputs": [
    {
     "name": "stdout",
     "output_type": "stream",
     "text": [
      "1\n"
     ]
    }
   ],
   "source": [
    "// 직접 배열 데이터 선언시 넣을 수도 있음\n",
    "Integer data_list[] = {5, 4, 3, 2, 1};\n",
    "Integer[] data_list2 = {1, 2, 3, 4, 5};\n",
    "\n",
    "System.out.println(data_list2[0]);"
   ]
  },
  {
   "cell_type": "code",
   "execution_count": 3,
   "id": "bc6b30ca",
   "metadata": {},
   "outputs": [
    {
     "name": "stdout",
     "output_type": "stream",
     "text": [
      "[1, 2, 3, 4, 5]\n"
     ]
    }
   ],
   "source": [
    "import java.util.Arrays;\n",
    "\n",
    "// 배열의 내용을 출력하려면, Arrays.toString(배열변수) 메서드를 사용하면 됨\n",
    "System.out.println(Arrays.toString(data_list2));"
   ]
  },
  {
   "cell_type": "code",
   "execution_count": 4,
   "id": "cbc1f052",
   "metadata": {},
   "outputs": [],
   "source": [
    "// JAVA 에서는 기본적으로 java.util 패키지에 가변 크기의 배열을 다룰 수 있는 ArrayList 클래스도 제공하고 있음\n",
    "import java.util.List;\n",
    "import java.util.ArrayList;\n",
    "\n",
    "List<Integer> list1 = new ArrayList<Integer>(); // int형 데이터를 담을 수 있는 가변 길이의 배열 선언"
   ]
  },
  {
   "cell_type": "code",
   "execution_count": 5,
   "id": "c87a9104",
   "metadata": {},
   "outputs": [
    {
     "name": "stdout",
     "output_type": "stream",
     "text": [
      "1\n"
     ]
    }
   ],
   "source": [
    "// 배열에 아이템 추가 시 add(아이템) 메서드 사용\n",
    "list1.add(1);\n",
    "list1.add(2);\n",
    "\n",
    "// 배열에 특정 아이템을 읽을 시 get(인덱스 번호) 메서드 사용\n",
    "System.out.println(list1.get(0));"
   ]
  },
  {
   "cell_type": "code",
   "execution_count": 6,
   "id": "a3e11b58",
   "metadata": {},
   "outputs": [
    {
     "name": "stdout",
     "output_type": "stream",
     "text": [
      "5\n"
     ]
    }
   ],
   "source": [
    "// 특정 인덱스에 해당하는 아이템 변경 시, set(인덱스 번호, 변경할 값) 메서드 사용\n",
    "list1.set(0, 5);\n",
    "System.out.println(list1.get(0));"
   ]
  },
  {
   "cell_type": "code",
   "execution_count": 7,
   "id": "e977c84e",
   "metadata": {},
   "outputs": [
    {
     "name": "stdout",
     "output_type": "stream",
     "text": [
      "2\n"
     ]
    }
   ],
   "source": [
    "// 특정 인덱스에 해당하는 아이템 삭제 시, remove(인덱스 번호) 메서드 사용\n",
    "list1.remove(0);\n",
    "System.out.println(list1.get(0));"
   ]
  },
  {
   "cell_type": "code",
   "execution_count": 8,
   "id": "e6ccaf78",
   "metadata": {},
   "outputs": [
    {
     "data": {
      "text/plain": [
       "1"
      ]
     },
     "execution_count": 8,
     "metadata": {},
     "output_type": "execute_result"
    }
   ],
   "source": [
    "// 배열 길이 확인하기\n",
    "list1.size();"
   ]
  },
  {
   "cell_type": "code",
   "execution_count": 9,
   "id": "742aad96",
   "metadata": {},
   "outputs": [
    {
     "name": "stdout",
     "output_type": "stream",
     "text": [
      "2\n",
      "5\n"
     ]
    }
   ],
   "source": [
    "// JAVA 에서는 기본 문법으로 다차원 배열도 작성 가능(2차원 배열)\n",
    "Integer data_list[][] = {{1, 2, 3}, {4, 5, 6}};\n",
    "\n",
    "// 데이터 2 인덱스로 지정해서 출력해보기\n",
    "System.out.println(data_list[0][1]);\n",
    "\n",
    "// 데이터 5 인덱스로 지정해서 출력해보기\n",
    "System.out.println(data_list[1][1]);"
   ]
  },
  {
   "cell_type": "code",
   "execution_count": 10,
   "id": "1ff1ebd8",
   "metadata": {},
   "outputs": [
    {
     "name": "stdout",
     "output_type": "stream",
     "text": [
      "5\n",
      "12\n"
     ]
    }
   ],
   "source": [
    "// JAVA 에서는 기본 문법으로 다차원 배열도 작성 가능(3차원 배열)\n",
    "Integer[][][] data_list = {\n",
    "    {\n",
    "        {1, 2, 3},\n",
    "        {4, 5, 6}\n",
    "    },\n",
    "    {\n",
    "        {7, 8, 9},\n",
    "        {10, 11, 12}\n",
    "    }\n",
    "};\n",
    "\n",
    "// 데이터 5 인덱스로 지정해서 출력해보기\n",
    "System.out.println(data_list[0][1][1]);\n",
    "// 데이터 12 인덱스로 지정해서 출력해보기\n",
    "System.out.println(data_list[1][1][2]);"
   ]
  },
  {
   "cell_type": "code",
   "execution_count": 12,
   "id": "12a5c24f",
   "metadata": {},
   "outputs": [
    {
     "name": "stdout",
     "output_type": "stream",
     "text": [
      "8\n",
      "10\n",
      "2\n"
     ]
    }
   ],
   "source": [
    "// 위 차원 배열에서 8, 10, 2를 순서대로 각각의 라인에 출력해보기\n",
    "System.out.println(data_list[1][0][1]);\n",
    "System.out.println(data_list[1][1][0]);\n",
    "System.out.println(data_list[0][0][1]);"
   ]
  },
  {
   "cell_type": "code",
   "execution_count": 13,
   "id": "8304db14",
   "metadata": {},
   "outputs": [],
   "source": [
    "String dataset[] = {\n",
    "    \"Braund, Mr. Owen Harris\",\n",
    "    \"Cumings, Mrs. John Bradley (Florence Briggs Thayer)\",\n",
    "    \"Heikkinen, Miss. Laina\",\n",
    "    \"Futrelle, Mrs. Jacques Heath (Lily May Peel)\",\n",
    "    \"Allen, Mr. William Henry\",\n",
    "    \"Moran, Mr. James\",\n",
    "    \"McCarthy, Mr. Timothy J\",\n",
    "    \"Palsson, Master. Gosta Leonard\",\n",
    "    \"Johnson, Mrs Oscar W (Elisabeth Vilhelmina Berg)\",\n",
    "    \"Nasser, Mrs. Nicholas (Adele Achem)\",\n",
    "    \"Sandstorm, Miss. Marguerite Rut\",\n",
    "    \"Bonnell, Miss. Elizabeth\",\n",
    "    \"Saundercock, Mr. William Henry\",\n",
    "    \"Andersson, Mr. Anders Johan\",\n",
    "    \"Vestorm, Miss. Hulda Amanda Adolfina\",\n",
    "    \"Hewlett, Mrs. (Mary D Kingcome)\",\n",
    "    \"Rice, Master, Eugene\",\n",
    "    \"Williams, Mr. Charles Eugene\",\n",
    "    \"Vander Planke, Mrs. Julius (Emelia Maria Vandemoortele)\",\n",
    "    \"Masselmani, Mrs. Fatima\",\n",
    "    \"Fynney, Mr. Joseph J\",\n",
    "    \"Beesley, Mr. Lawrence\",\n",
    "    \"Emir, Mr. Rarrend Chehab\",\n",
    "    \"Fortune, Mr. Charles Alexander\",\n",
    "    \"Dwyer, Miss. Ellen\",\n",
    "    \"Todoroff, Mr. Lalio\"\n",
    "};"
   ]
  },
  {
   "cell_type": "code",
   "execution_count": 17,
   "id": "891ab4c2",
   "metadata": {},
   "outputs": [
    {
     "name": "stdout",
     "output_type": "stream",
     "text": [
      "26\n"
     ]
    }
   ],
   "source": [
    "// 위 1차원 배열에서, 문자 M을 가지고 있는 아이템 수를 출력해보기\n",
    "// 배열.length: 배열에 들어 있는 아이템 갯수\n",
    "// 문자열.indexOf(String key): 문자 key가 해당 문자열에 있으면 해당 문자의 위치를 리턴하고, 없으면 -1을 리턴함\n",
    "\n",
    "int i = 0;\n",
    "for (String str : dataset) {\n",
    "    if (str.indexOf(\"M\") > -1) i++;\n",
    "}\n",
    "System.out.println(i);"
   ]
  }
 ],
 "metadata": {
  "kernelspec": {
   "display_name": "Java",
   "language": "java",
   "name": "java"
  },
  "language_info": {
   "codemirror_mode": "java",
   "file_extension": ".jshell",
   "mimetype": "text/x-java-source",
   "name": "Java",
   "pygments_lexer": "java",
   "version": "11.0.14+8-LTS-263"
  }
 },
 "nbformat": 4,
 "nbformat_minor": 5
}
