{
 "cells": [
  {
   "cell_type": "code",
   "execution_count": 1,
   "id": "fa635b07",
   "metadata": {},
   "outputs": [],
   "source": [
    "// java.util.Stack 클래스 임포트\n",
    "import java.util.Stack;\n",
    "\n",
    "// 자료형 매개변수를 넣어서, 스택에 들어갈 데이터의 타입을 지정해야 합니다.\n",
    "Stack<Integer> stack_int = new Stack<Integer>(); // Integer형 스택 선언"
   ]
  },
  {
   "cell_type": "code",
   "execution_count": 3,
   "id": "09f1fb98",
   "metadata": {},
   "outputs": [
    {
     "data": {
      "text/plain": [
       "3"
      ]
     },
     "execution_count": 3,
     "metadata": {},
     "output_type": "execute_result"
    }
   ],
   "source": [
    "stack_int.push(1); // Stack에 1 추가\n",
    "stack_int.push(2); // Stack에 2 추가\n",
    "stack_int.push(3); // Stack에 3 추가"
   ]
  },
  {
   "cell_type": "code",
   "execution_count": 4,
   "id": "cfaa7833",
   "metadata": {},
   "outputs": [
    {
     "data": {
      "text/plain": [
       "3"
      ]
     },
     "execution_count": 4,
     "metadata": {},
     "output_type": "execute_result"
    }
   ],
   "source": [
    "// Stack에서 데이터 추출(마지막에 넣은 3이 출력됩니다.)\n",
    "stack_int.pop();"
   ]
  },
  {
   "cell_type": "code",
   "execution_count": 5,
   "id": "6cb47030",
   "metadata": {},
   "outputs": [
    {
     "data": {
      "text/plain": [
       "2"
      ]
     },
     "execution_count": 5,
     "metadata": {},
     "output_type": "execute_result"
    }
   ],
   "source": [
    "// Stack에서 데이터 추출(현재 Stack에 있는 데이터 중, 가장 나중에 넣어진 데이터 출력)\n",
    "stack_int.pop();"
   ]
  },
  {
   "cell_type": "code",
   "execution_count": 6,
   "id": "f38fc6e4",
   "metadata": {},
   "outputs": [
    {
     "data": {
      "text/plain": [
       "1"
      ]
     },
     "execution_count": 6,
     "metadata": {},
     "output_type": "execute_result"
    }
   ],
   "source": [
    "// Stack에 값 제거\n",
    "stack_int.pop();"
   ]
  },
  {
   "cell_type": "code",
   "execution_count": 8,
   "id": "15d6e440",
   "metadata": {},
   "outputs": [],
   "source": [
    "// JAVA ArrayList 클래스를 활용해서 스택을 다루는 push, pop 기능을 구현해보기\n",
    "// pop 기능 호출 시, 스택에 데이터가 없을 경우, null을 리턴하도록 함\n",
    "// 다양한 데이터 타입을 다룰 수 있도록, Java Generic 타입 문법을 활용해보기\n",
    "import java.util.List;\n",
    "import java.util.ArrayList;\n",
    "\n",
    "public class MyStack<T> {\n",
    "\n",
    "    private final List<T> stack = new ArrayList<T>();\n",
    "    \n",
    "    public void push(T item) {\n",
    "        this.stack.add(item);\n",
    "    }\n",
    "    \n",
    "    public T pop() {\n",
    "        if (this.stack.isEmpty()) {\n",
    "            return null;\n",
    "        }\n",
    "        \n",
    "        return this.stack.remove(this.stack.size() - 1);\n",
    "    }\n",
    "    \n",
    "    public boolean isEmpty() {\n",
    "        return this.stack.isEmpty();\n",
    "    }\n",
    " \n",
    "}"
   ]
  },
  {
   "cell_type": "code",
   "execution_count": 9,
   "id": "a3f78d31",
   "metadata": {},
   "outputs": [],
   "source": [
    "public class Main {\n",
    "\n",
    "    public static void main(String[] args) {\n",
    "        MyStack<Integer> ms = new MyStack<>();\n",
    "\n",
    "        ms.push(1);\n",
    "        ms.push(2);\n",
    "        ms.push(3);\n",
    "\n",
    "        System.out.println(ms.pop());\n",
    "        System.out.println(ms.pop());\n",
    "        System.out.println(ms.pop());\n",
    "        System.out.println(ms.pop());\n",
    "\n",
    "        System.out.println(ms.isEmpty());\n",
    "    }\n",
    "}\n"
   ]
  },
  {
   "cell_type": "code",
   "execution_count": 10,
   "id": "dd2b363e",
   "metadata": {},
   "outputs": [
    {
     "name": "stdout",
     "output_type": "stream",
     "text": [
      "3\n",
      "2\n",
      "1\n",
      "null\n",
      "true\n"
     ]
    }
   ],
   "source": [
    "Main.main(new String[0]);"
   ]
  }
 ],
 "metadata": {
  "kernelspec": {
   "display_name": "Java",
   "language": "java",
   "name": "java"
  },
  "language_info": {
   "codemirror_mode": "java",
   "file_extension": ".jshell",
   "mimetype": "text/x-java-source",
   "name": "Java",
   "pygments_lexer": "java",
   "version": "11.0.14+8-LTS-263"
  }
 },
 "nbformat": 4,
 "nbformat_minor": 5
}
