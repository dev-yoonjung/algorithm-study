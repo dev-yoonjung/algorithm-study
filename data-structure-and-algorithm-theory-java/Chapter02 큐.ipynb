{
 "cells": [
  {
   "cell_type": "markdown",
   "id": "8298139c",
   "metadata": {},
   "source": [
    "# 대표적인 데이터 구조: 큐(Queue)\n",
    "\n",
    "## 1. 큐 구조\n",
    "\n",
    "* 줄을 서는 행위와 유사\n",
    "* 가장 먼저 넣은 데이터를 가장 먼저 꺼낼 수 있는 구조\n",
    "    * 음식점에서 가장 먼저 줄을 선 사람이 제일 먼저 음식점에 입장하는 것과 동일\n",
    "    * FIFO(First-In, First-Out) 또는 LILO(Last-In, Last-Out) 방식으로 스택과 꺼내는 순서가 반대\n",
    "    \n",
    "<img src=\"https://www.fun-coding.org/00_Images/queue.png\" />"
   ]
  },
  {
   "cell_type": "markdown",
   "id": "dda25f00",
   "metadata": {},
   "source": [
    "## 2. 알아둘 용어\n",
    "\n",
    "* Enqueue: 큐에 데이터를 넣는 기능\n",
    "* Dequeue: 큐에서 데이터를 꺼내는 기능"
   ]
  },
  {
   "cell_type": "markdown",
   "id": "5e77ba0c",
   "metadata": {},
   "source": [
    "## 3. JAVA에서의 큐 자료 구조 사용하기\n",
    "\n",
    "* JAVA에서는 기본적으로 java.util 패키지에 Queue 클래스를 제공하고 있음\n",
    "    * Enqueue에 해당하는 기능으로 Queue 클래스에서는 add(value) 또는 offer(value) 메서드를 제공함\n",
    "    * Dequeue에 해당하는 기능으로 Queue 클래스에서는 poll() 또는 remove() 메서드를 제공함\n",
    "    * Queue 클래스에 데이터 생성을 위해서는 java.util 패키지에 있는 LinkedList 클래스를 사용해야 함"
   ]
  },
  {
   "cell_type": "markdown",
   "id": "3e9dcff1",
   "metadata": {},
   "source": [
    "### Queue 클래스 사용해보기"
   ]
  },
  {
   "cell_type": "code",
   "execution_count": 1,
   "id": "1ba70ed5",
   "metadata": {},
   "outputs": [],
   "source": [
    "// Queue 사용을 위해, LinkedList 클래스를 사용하므로, 두 클래스 모두 import 해야 함\n",
    "import java.util.LinkedList;\n",
    "import java.util.Queue;\n",
    "\n",
    "// 자료형 매개변수를 넣어서, 큐에 들어갈 데이터의 타입을 지정해야 함\n",
    "// Integer 형 queue 선언\n",
    "Queue<Integer> queue_int = new LinkedList<Integer>(); \n",
    "// String 형 queue 선언\n",
    "Queue<String> queue_str = new LinkedList<String>(); "
   ]
  },
  {
   "cell_type": "code",
   "execution_count": 2,
   "id": "9a17df8c",
   "metadata": {},
   "outputs": [
    {
     "data": {
      "text/plain": [
       "true"
      ]
     },
     "execution_count": 2,
     "metadata": {},
     "output_type": "execute_result"
    }
   ],
   "source": [
    "// 데이터 추가는 add(value) 또는 offer(value) 를 사용함\n",
    "queue_int.add(1);\n",
    "queue_int.offer(2);\n",
    "// 출력에 true라고 출력되는 부분은 offer() 메서드가 리턴한 값으로,\n",
    "// 셀의 맨 마지막에 함수를 넣을 경우, 변수가 변수값이 출력되는 것처럼 \n",
    "// 함수는 함수 리턴값이 출력"
   ]
  },
  {
   "cell_type": "code",
   "execution_count": 3,
   "id": "6459d913",
   "metadata": {},
   "outputs": [
    {
     "name": "stdout",
     "output_type": "stream",
     "text": [
      "[1, 2]\n"
     ]
    }
   ],
   "source": [
    "// Queue 인스턴스를 출력하면, 해당 큐에 들어 있는 아이템 리스트가 출력됨\n",
    "System.out.println(queue_int);"
   ]
  },
  {
   "cell_type": "code",
   "execution_count": 4,
   "id": "e8d35921",
   "metadata": {},
   "outputs": [
    {
     "data": {
      "text/plain": [
       "1"
      ]
     },
     "execution_count": 4,
     "metadata": {},
     "output_type": "execute_result"
    }
   ],
   "source": [
    "// poll()은 큐의 첫 번째 값 반환, 해당 값은 큐에서 삭제\n",
    "queue_int.poll();"
   ]
  },
  {
   "cell_type": "code",
   "execution_count": 5,
   "id": "4c8473c3",
   "metadata": {},
   "outputs": [
    {
     "data": {
      "text/plain": [
       "[2]"
      ]
     },
     "execution_count": 5,
     "metadata": {},
     "output_type": "execute_result"
    }
   ],
   "source": [
    "// 바로 현재 큐의 아이템을 확인해보면, \n",
    "// poll()을 통해 반환된 값은 삭제되었음을 알 수 있음\n",
    "queue_int;"
   ]
  },
  {
   "cell_type": "code",
   "execution_count": 6,
   "id": "654bb20f",
   "metadata": {},
   "outputs": [
    {
     "data": {
      "text/plain": [
       "2"
      ]
     },
     "execution_count": 6,
     "metadata": {},
     "output_type": "execute_result"
    }
   ],
   "source": [
    "// poll()과 마찬가지로, 첫 번째 값은 반환하고, 해당 값은 큐에서 삭제\n",
    "queue_int.remove();"
   ]
  },
  {
   "cell_type": "code",
   "execution_count": 7,
   "id": "054bd075",
   "metadata": {},
   "outputs": [
    {
     "data": {
      "text/plain": [
       "[]"
      ]
     },
     "execution_count": 7,
     "metadata": {},
     "output_type": "execute_result"
    }
   ],
   "source": [
    "// 현재 큐의 아이템을 확인해보면, 결국 모두 삭제되었음을 확인할 수 있음\n",
    "queue_int;"
   ]
  },
  {
   "cell_type": "markdown",
   "id": "e9973572",
   "metadata": {},
   "source": [
    "### 참고: 어디에 큐가 많이 쓰일까?\n",
    "\n",
    "* 멀티 태스킹을 위한 프로세스 스케쥴링 방식을 구현하게 위해 많이 사용됨(운영체제 참조)\n",
    "> 큐의 경웅에는 장단점 보다는(특별히 언급되는 장단점이 없음), 큐의 활용 예로 프로세스 스케쥴링 방식을 함께 이해해두는 것이 좋음"
   ]
  },
  {
   "cell_type": "markdown",
   "id": "582a8b67",
   "metadata": {},
   "source": [
    "## 4. 프로그래밍 연습"
   ]
  },
  {
   "cell_type": "markdown",
   "id": "fb74165d",
   "metadata": {},
   "source": [
    "### 연습해보기\n",
    "\n",
    "* JAVA ArrayList 클래스를 활용해서 큐를 다루는 enqueue, dequeue 기능을 구현해보기\n",
    "* dequeue 기능 호출 시, 큐에 데이터가 없을 경우, null 을 리턴하도록 함\n",
    "* 다양한 데이터 타입을 다를 수 있도록, Java Generic 타입 문법을 활용해보기"
   ]
  },
  {
   "cell_type": "code",
   "execution_count": 8,
   "id": "48712a54",
   "metadata": {},
   "outputs": [],
   "source": [
    "import java.util.ArrayList;\n",
    "\n",
    "public class Queue<T> {\n",
    "    \n",
    "    private List<T> queue = new ArrayList<T>();\n",
    "    \n",
    "    public void enqueue(T data) {\n",
    "        this.queue.add(data);\n",
    "    }\n",
    "    \n",
    "    public T dequeue() {\n",
    "        if (this.queue.isEmpty()) {\n",
    "            return null;\n",
    "        }\n",
    "        return this.queue.remove(0);\n",
    "    }\n",
    "    \n",
    "    public boolean isEmpty() {\n",
    "        return this.queue.isEmpty();\n",
    "    }\n",
    "\n",
    "    public static void main(String[] args) {\n",
    "        Queue<Integer> queue = new Queue<Integer>();\n",
    "        queue.enqueue(1);\n",
    "        queue.enqueue(2);\n",
    "        queue.enqueue(3);\n",
    "        System.out.println(queue.dequeue());\n",
    "        System.out.println(queue.dequeue());\n",
    "        System.out.println(queue.dequeue());\n",
    "    }\n",
    "}"
   ]
  }
 ],
 "metadata": {
  "kernelspec": {
   "display_name": "Java",
   "language": "java",
   "name": "java"
  },
  "language_info": {
   "codemirror_mode": "java",
   "file_extension": ".jshell",
   "mimetype": "text/x-java-source",
   "name": "Java",
   "pygments_lexer": "java",
   "version": "11.0.14+8-LTS-263"
  }
 },
 "nbformat": 4,
 "nbformat_minor": 5
}
