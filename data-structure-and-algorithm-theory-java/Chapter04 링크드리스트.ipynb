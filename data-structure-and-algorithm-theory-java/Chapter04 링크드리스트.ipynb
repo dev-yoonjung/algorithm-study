{
 "cells": [
  {
   "cell_type": "markdown",
   "id": "f5f72f46",
   "metadata": {},
   "source": [
    "# 1. 링크드 리스트(Linked List) 구조\n",
    "\n",
    "* 연결 리스트라고도 함\n",
    "* 배열은 순차적으로 연결된 공간에 데이터를 나열하는 데이터 구조\n",
    "* 링크드 리스트는 떨어진 곳에 존재하는 데이터를 화살표로 연결해서 관리하는 데이터 구조\n",
    "\n",
    "* 링크드 리스트 기본 구조와 용어\n",
    "    * 노드(Node): 데이터 저장 단위(데이터 값, 포인터)로 구성\n",
    "    * 포인터(pointer): 각 노드 안에서, 다음이나 이전의 노드와의 연결 정보를 가지고 있는 공간\n",
    "    \n",
    "* 일반적인 링크드 리스트 형태\n",
    "<img src=\"https://t1.daumcdn.net/cfile/tistory/20359E4150E2547728\" />"
   ]
  },
  {
   "cell_type": "markdown",
   "id": "df13ad7f",
   "metadata": {},
   "source": [
    "# 2. 간단한 링크드 리스트 예\n",
    "\n",
    "* 최대한 간단한 형태로 코드로 작성해보며 링크드 리스트를 이해해보기"
   ]
  },
  {
   "cell_type": "markdown",
   "id": "1534dba7",
   "metadata": {},
   "source": [
    "## 2.1. Node 클래스 구현"
   ]
  },
  {
   "cell_type": "code",
   "execution_count": 1,
   "id": "714eacd9",
   "metadata": {},
   "outputs": [],
   "source": [
    "public class Node<T> {\n",
    "\n",
    "    T data;\n",
    "    \n",
    "    Node<T> next = null;\n",
    "\n",
    "    public Node(T data) {\n",
    "        this.data = data;\n",
    "    }\n",
    "\n",
    "}"
   ]
  },
  {
   "cell_type": "markdown",
   "id": "b86f1af2",
   "metadata": {},
   "source": [
    "## 2.2. Node와 Node 연결하기: Node 인스턴스간 연결"
   ]
  },
  {
   "cell_type": "code",
   "execution_count": 2,
   "id": "0a63a948",
   "metadata": {},
   "outputs": [],
   "source": [
    "Node<Integer> node1 = new Node<Integer>(1);\n",
    "Node<Integer> node2 = new Node<Integer>(2);"
   ]
  },
  {
   "cell_type": "code",
   "execution_count": 3,
   "id": "0510d515",
   "metadata": {},
   "outputs": [],
   "source": [
    "node1.next = node2;\n",
    "Node head = node1;"
   ]
  },
  {
   "cell_type": "markdown",
   "id": "e87076a7",
   "metadata": {},
   "source": [
    "## 2.3. 링크드 리스트에 데이터 추가하기"
   ]
  },
  {
   "cell_type": "code",
   "execution_count": 4,
   "id": "dd8ffa11",
   "metadata": {},
   "outputs": [],
   "source": [
    "public class SingleLinkedList<T> {\n",
    "\n",
    "    public Node<T> head = null;\n",
    "    \n",
    "    public class Node<T> {\n",
    "    \n",
    "        T data;\n",
    "        \n",
    "        Node<T> next = null;\n",
    "        \n",
    "        public Node(T data) {\n",
    "            this.data = data;\n",
    "        }\n",
    "    \n",
    "    }\n",
    "    \n",
    "    public void addNode(T data) {\n",
    "        if (head == null) {\n",
    "            head = new Node<T>(data);\n",
    "            return;\n",
    "        }\n",
    "        \n",
    "        Node<T> node = this.head;\n",
    "        while (node.next != null) {\n",
    "            node = node.next;\n",
    "        }\n",
    "        node.next = new Node<T>(data);\n",
    "    }\n",
    "    \n",
    "    public void printAll() {\n",
    "        if (head != null) {\n",
    "            Node<T> node = this.head;\n",
    "            System.out.println(node.data);\n",
    "            while (node.next != null) {\n",
    "                node = node.next;\n",
    "                System.out.println(node.data);\n",
    "            }\n",
    "        }\n",
    "    }\n",
    "\n",
    "}"
   ]
  },
  {
   "cell_type": "code",
   "execution_count": 5,
   "id": "f8ddc9cb",
   "metadata": {},
   "outputs": [],
   "source": [
    "SingleLinkedList<Integer> linkedList = new SingleLinkedList<Integer>();\n",
    "linkedList.addNode(1);"
   ]
  },
  {
   "cell_type": "code",
   "execution_count": 6,
   "id": "fa70f1ee",
   "metadata": {},
   "outputs": [
    {
     "data": {
      "text/plain": [
       "1"
      ]
     },
     "execution_count": 6,
     "metadata": {},
     "output_type": "execute_result"
    }
   ],
   "source": [
    "linkedList.head.data;"
   ]
  },
  {
   "cell_type": "code",
   "execution_count": 7,
   "id": "e09777f5",
   "metadata": {},
   "outputs": [],
   "source": [
    "linkedList.addNode(2);"
   ]
  },
  {
   "cell_type": "code",
   "execution_count": 8,
   "id": "1d4eaf75",
   "metadata": {},
   "outputs": [
    {
     "data": {
      "text/plain": [
       "2"
      ]
     },
     "execution_count": 8,
     "metadata": {},
     "output_type": "execute_result"
    }
   ],
   "source": [
    "linkedList.head.next.data;"
   ]
  },
  {
   "cell_type": "markdown",
   "id": "b069f2b2",
   "metadata": {},
   "source": [
    "## 2.4. 링크드 리스트 데이터 출력하기(검색하기)"
   ]
  },
  {
   "cell_type": "code",
   "execution_count": 9,
   "id": "de86ca05",
   "metadata": {},
   "outputs": [
    {
     "name": "stdout",
     "output_type": "stream",
     "text": [
      "1\n",
      "2\n",
      "3\n"
     ]
    }
   ],
   "source": [
    "SingleLinkedList<Integer> linkedList = new SingleLinkedList<Integer>();\n",
    "linkedList.addNode(1);\n",
    "linkedList.addNode(2);\n",
    "linkedList.addNode(3);\n",
    "\n",
    "linkedList.printAll();"
   ]
  },
  {
   "cell_type": "markdown",
   "id": "3ff77f9b",
   "metadata": {},
   "source": [
    "# 3. 링크드 리스트의 장단점\n",
    "\n",
    "* 장점\n",
    "    * 미리 데이터 공간을 미리 할당하지 않아도 됨\n",
    "        * 배열은 미리 데이터 공간을 할당해야 함\n",
    "* 단점\n",
    "    * 연결을 위한 별도 데이터 공간이 필요하므로, 저장공간 효율이 높지 않음\n",
    "    * 연결 정보를 찾는 시간이 필요하므로 접근 속도가 느림\n",
    "    * 중간 데이터 삭제 시, 앞 뒤 데이터의 연결을 재구성해야 하는 부가적인 작업 필요"
   ]
  },
  {
   "cell_type": "markdown",
   "id": "823de37a",
   "metadata": {},
   "source": [
    "# 4. 링크드 리스트의 복잡한 기능1(링크드 리스트 데이터 사이에 데이터를 추가)\n",
    "\n",
    "* 링크드 리스트는 유지 관리에 부가적인 구현이 필요함\n",
    "\n",
    "<img src=\"https://upload.wikimedia.org/wikipedia/commons/thumb/4/4b/CPT-LinkedLists-addingnode.svg/474px-CPT-LinkedLists-addingnode.svg.png\" />"
   ]
  },
  {
   "cell_type": "code",
   "execution_count": 10,
   "id": "1b84572f",
   "metadata": {},
   "outputs": [],
   "source": [
    "public class SingleLinkedList<T> {\n",
    "\n",
    "    public Node<T> head = null;\n",
    "    \n",
    "    public class Node<T> {\n",
    "    \n",
    "        T data;\n",
    "        \n",
    "        Node<T> next = null;\n",
    "        \n",
    "        public Node(T data) {\n",
    "            this.data = data;\n",
    "        }\n",
    "    \n",
    "    }\n",
    "    \n",
    "    public void addNode(T data) {\n",
    "        if (head == null) {\n",
    "            head = new Node<T>(data);\n",
    "            return;\n",
    "        }\n",
    "        \n",
    "        Node<T> node = this.head;\n",
    "        while (node.next != null) {\n",
    "            node = node.next;\n",
    "        }\n",
    "        node.next = new Node<T>(data);\n",
    "    }\n",
    "    \n",
    "    public void printAll() {\n",
    "        if (head != null) {\n",
    "            Node<T> node = this.head;\n",
    "            System.out.println(node.data);\n",
    "            while (node.next != null) {\n",
    "                node = node.next;\n",
    "                System.out.println(node.data);\n",
    "            }\n",
    "        }\n",
    "    }\n",
    "    \n",
    "    public Node<T> search(T data) {\n",
    "        if (this.head == null) {\n",
    "            return null;\n",
    "        }\n",
    "        \n",
    "        Node<T> node = this.head;\n",
    "        while (node != null) {\n",
    "            if (node.data == data) {\n",
    "                return node;\n",
    "            }\n",
    "            \n",
    "            node = node.next;\n",
    "        }\n",
    "            \n",
    "        return null;\n",
    "    }\n",
    "    \n",
    "    public void addNodeInside(T data, T isData) {\n",
    "        Node<T> searchedNode = this.search(isData);\n",
    "        \n",
    "        if (searchedNode == null) {\n",
    "            this.addNode(data);\n",
    "            return;\n",
    "        }\n",
    "        \n",
    "        Node<T> nextNode = searchedNode.next;\n",
    "        searchedNode.next = new Node<T>(data);\n",
    "        searchedNode.next.next = nextNode;\n",
    "    }\n",
    "\n",
    "}"
   ]
  },
  {
   "cell_type": "markdown",
   "id": "5f4b67d7",
   "metadata": {},
   "source": [
    "* 링크드 리스트를 생성하고, 1, 2, 3 데이터 넣기"
   ]
  },
  {
   "cell_type": "code",
   "execution_count": 11,
   "id": "226694c2",
   "metadata": {},
   "outputs": [
    {
     "name": "stdout",
     "output_type": "stream",
     "text": [
      "1\n",
      "2\n",
      "3\n"
     ]
    }
   ],
   "source": [
    "SingleLinkedList<Integer> linkedList = new SingleLinkedList<Integer>();\n",
    "linkedList.addNode(1);\n",
    "linkedList.addNode(2);\n",
    "linkedList.addNode(3);\n",
    "\n",
    "linkedList.printAll();"
   ]
  },
  {
   "cell_type": "markdown",
   "id": "bf14ba69",
   "metadata": {},
   "source": [
    "* 1 데이터 뒤에 5 넣어보기"
   ]
  },
  {
   "cell_type": "code",
   "execution_count": 12,
   "id": "af9bbc5a",
   "metadata": {},
   "outputs": [
    {
     "name": "stdout",
     "output_type": "stream",
     "text": [
      "1\n",
      "5\n",
      "2\n",
      "3\n"
     ]
    }
   ],
   "source": [
    "linkedList.addNodeInside(5, 1);\n",
    "\n",
    "linkedList.printAll();"
   ]
  },
  {
   "cell_type": "markdown",
   "id": "5fb50bfd",
   "metadata": {},
   "source": [
    "* 3 데이터 뒤에 6 넣어보기"
   ]
  },
  {
   "cell_type": "code",
   "execution_count": 13,
   "id": "8660f780",
   "metadata": {},
   "outputs": [
    {
     "name": "stdout",
     "output_type": "stream",
     "text": [
      "1\n",
      "5\n",
      "2\n",
      "3\n",
      "6\n"
     ]
    }
   ],
   "source": [
    "linkedList.addNodeInside(6, 3);\n",
    "\n",
    "linkedList.printAll();"
   ]
  },
  {
   "cell_type": "markdown",
   "id": "2650e0f0",
   "metadata": {},
   "source": [
    "* 없는 데이터를 찾도록 해서, 맨 마지막에 데이터 넣기"
   ]
  },
  {
   "cell_type": "code",
   "execution_count": 14,
   "id": "41a56993",
   "metadata": {},
   "outputs": [
    {
     "name": "stdout",
     "output_type": "stream",
     "text": [
      "1\n",
      "5\n",
      "2\n",
      "3\n",
      "6\n",
      "7\n"
     ]
    }
   ],
   "source": [
    "linkedList.addNodeInside(7, 20);\n",
    "\n",
    "linkedList.printAll();"
   ]
  },
  {
   "cell_type": "markdown",
   "id": "b0274c7a",
   "metadata": {},
   "source": [
    "# 5. 링크드 리스트의 복잡한 기능2(특정 노드를 삭제)"
   ]
  },
  {
   "cell_type": "code",
   "execution_count": 15,
   "id": "884d6373",
   "metadata": {},
   "outputs": [],
   "source": [
    "public class SingleLinkedList<T> {\n",
    "\n",
    "    public Node<T> head = null;\n",
    "    \n",
    "    public class Node<T> {\n",
    "    \n",
    "        T data;\n",
    "        \n",
    "        Node<T> next = null;\n",
    "        \n",
    "        public Node(T data) {\n",
    "            this.data = data;\n",
    "        }\n",
    "    \n",
    "    }\n",
    "    \n",
    "    public void addNode(T data) {\n",
    "        if (head == null) {\n",
    "            head = new Node<T>(data);\n",
    "            return;\n",
    "        }\n",
    "        \n",
    "        Node<T> node = this.head;\n",
    "        while (node.next != null) {\n",
    "            node = node.next;\n",
    "        }\n",
    "        node.next = new Node<T>(data);\n",
    "    }\n",
    "    \n",
    "    public void printAll() {\n",
    "        if (head != null) {\n",
    "            Node<T> node = this.head;\n",
    "            System.out.println(node.data);\n",
    "            while (node.next != null) {\n",
    "                node = node.next;\n",
    "                System.out.println(node.data);\n",
    "            }\n",
    "        }\n",
    "    }\n",
    "    \n",
    "    public Node<T> search(T data) {\n",
    "        if (this.head == null) {\n",
    "            return null;\n",
    "        }\n",
    "        \n",
    "        Node<T> node = this.head;\n",
    "        while (node != null) {\n",
    "            if (node.data == data) {\n",
    "                return node;\n",
    "            }\n",
    "            \n",
    "            node = node.next;\n",
    "        }\n",
    "            \n",
    "        return null;\n",
    "    }\n",
    "    \n",
    "    public void addNodeInside(T data, T isData) {\n",
    "        Node<T> searchedNode = this.search(isData);\n",
    "        \n",
    "        if (searchedNode == null) {\n",
    "            this.addNode(data);\n",
    "            return;\n",
    "        }\n",
    "        \n",
    "        Node<T> nextNode = searchedNode.next;\n",
    "        searchedNode.next = new Node<T>(data);\n",
    "        searchedNode.next.next = nextNode;\n",
    "    }\n",
    "\n",
    "    public boolean delNode(T isData) {\n",
    "        if (this.head == null) {\n",
    "            return false;\n",
    "        }\n",
    "        \n",
    "        Node<T> node = this.head;\n",
    "        if (node.data == isData) {\n",
    "            this.head = this.head.next;\n",
    "                \n",
    "            return true;\n",
    "        }\n",
    "        \n",
    "        while (node.next != null) {\n",
    "            if (node.next.data == isData) {\n",
    "                node.next = node.next.next;\n",
    "                return true;\n",
    "            }\n",
    "                    \n",
    "            node = node.next;\n",
    "        }\n",
    "                \n",
    "        return false;\n",
    "    }\n",
    "}"
   ]
  },
  {
   "cell_type": "markdown",
   "id": "a709e721",
   "metadata": {},
   "source": [
    "* 테스트1: 5개의 노드 생성"
   ]
  },
  {
   "cell_type": "code",
   "execution_count": 16,
   "id": "1a13d389",
   "metadata": {},
   "outputs": [
    {
     "name": "stdout",
     "output_type": "stream",
     "text": [
      "1\n",
      "2\n",
      "3\n",
      "4\n",
      "5\n"
     ]
    }
   ],
   "source": [
    "SingleLinkedList<Integer> linkedList = new SingleLinkedList<Integer>();\n",
    "\n",
    "linkedList.addNode(1);\n",
    "linkedList.addNode(2);\n",
    "linkedList.addNode(3);\n",
    "linkedList.addNode(4);\n",
    "linkedList.addNode(5);\n",
    "\n",
    "linkedList.printAll();"
   ]
  },
  {
   "cell_type": "markdown",
   "id": "99ccfeed",
   "metadata": {},
   "source": [
    "* 테스트2: 중간 노드 삭제"
   ]
  },
  {
   "cell_type": "code",
   "execution_count": 17,
   "id": "b65e8505",
   "metadata": {},
   "outputs": [
    {
     "name": "stdout",
     "output_type": "stream",
     "text": [
      "1\n",
      "2\n",
      "4\n",
      "5\n"
     ]
    }
   ],
   "source": [
    "linkedList.delNode(3);\n",
    "\n",
    "linkedList.printAll();"
   ]
  },
  {
   "cell_type": "markdown",
   "id": "c2e5410a",
   "metadata": {},
   "source": [
    "* 테스트3: 맨 앞의 노드(헤드) 삭제"
   ]
  },
  {
   "cell_type": "code",
   "execution_count": 18,
   "id": "a8d6f7fe",
   "metadata": {},
   "outputs": [
    {
     "name": "stdout",
     "output_type": "stream",
     "text": [
      "2\n",
      "4\n",
      "5\n"
     ]
    }
   ],
   "source": [
    "linkedList.delNode(1);\n",
    "\n",
    "linkedList.printAll();"
   ]
  },
  {
   "cell_type": "markdown",
   "id": "8569e4df",
   "metadata": {},
   "source": [
    "* 테스트4: 맨 마지막 노드 삭제"
   ]
  },
  {
   "cell_type": "code",
   "execution_count": 19,
   "id": "b997981e",
   "metadata": {},
   "outputs": [
    {
     "name": "stdout",
     "output_type": "stream",
     "text": [
      "2\n",
      "4\n"
     ]
    }
   ],
   "source": [
    "linkedList.delNode(5);\n",
    "\n",
    "linkedList.printAll();"
   ]
  },
  {
   "cell_type": "markdown",
   "id": "b223bf8f",
   "metadata": {},
   "source": [
    "* 테스트5: 없는 노드 삭제 시도"
   ]
  },
  {
   "cell_type": "code",
   "execution_count": 20,
   "id": "5fad2ecc",
   "metadata": {},
   "outputs": [
    {
     "data": {
      "text/plain": [
       "false"
      ]
     },
     "execution_count": 20,
     "metadata": {},
     "output_type": "execute_result"
    }
   ],
   "source": [
    "linkedList.delNode(20);"
   ]
  },
  {
   "cell_type": "markdown",
   "id": "80496b75",
   "metadata": {},
   "source": [
    "# 6. 다양한 링크드 리스트 구조: 더블 링크드 리스트(Doubly linked list)\n",
    "\n",
    "* 더블 링크드 리스트(Doubly linked list) 기본 구조\n",
    "    * 이중 연결 리스트라고도 함\n",
    "    * 장점: 양방향으로 연결이 되어 있어서 노드 탐색이 양쪽으로 모두 가능\n",
    "    \n",
    "<img src=\"https://upload.wikimedia.org/wikipedia/commons/thumb/5/5e/Doubly-linked-list.svg/610px-Doubly-linked-list.svg.png\" />"
   ]
  },
  {
   "cell_type": "code",
   "execution_count": 21,
   "id": "2575324b",
   "metadata": {},
   "outputs": [],
   "source": [
    "public class DoubleLinkedList<T> {\n",
    "\n",
    "    public Node<T> head = null;\n",
    "    \n",
    "    public Node<T> tail = null;\n",
    "    \n",
    "    public class Node<T> {\n",
    "    \n",
    "        T data;\n",
    "        \n",
    "        Node<T> prev = null;\n",
    "        \n",
    "        Node<T> next = null;\n",
    "    \n",
    "        public Node(T data) {\n",
    "            this.data = data;\n",
    "        }\n",
    "    \n",
    "    }\n",
    "    \n",
    "    public void addNode(T data) {\n",
    "        if (this.head == null) {\n",
    "            this.head = new Node<T>(data);\n",
    "            this.tail = this.head;\n",
    "            \n",
    "            return;\n",
    "        }\n",
    "        \n",
    "        Node<T> node = this.head;\n",
    "        while (node.next != null) {\n",
    "            node = node.next;\n",
    "        }\n",
    "            \n",
    "        node.next = new Node<T>(data);\n",
    "        node.next.prev = node;\n",
    "        this.tail = node.next;\n",
    "    }\n",
    "    \n",
    "    public void printAll() {\n",
    "        if (this.head != null) {\n",
    "            Node<T> node = this.head;\n",
    "            System.out.println(node.data);\n",
    "            while (node.next != null) {\n",
    "                node = node.next;\n",
    "                System.out.println(node.data);\n",
    "            }\n",
    "        }\n",
    "    }\n",
    "\n",
    "}"
   ]
  },
  {
   "cell_type": "code",
   "execution_count": 22,
   "id": "a5d77042",
   "metadata": {},
   "outputs": [
    {
     "name": "stdout",
     "output_type": "stream",
     "text": [
      "2\n",
      "4\n",
      "5\n",
      "8\n",
      "3\n"
     ]
    }
   ],
   "source": [
    "DoubleLinkedList<Integer> linkedList = new DoubleLinkedList<Integer>();\n",
    "\n",
    "linkedList.addNode(2);\n",
    "linkedList.addNode(4);\n",
    "linkedList.addNode(5);\n",
    "linkedList.addNode(8);\n",
    "linkedList.addNode(3);\n",
    "\n",
    "linkedList.printAll();"
   ]
  },
  {
   "cell_type": "markdown",
   "id": "096f6497",
   "metadata": {},
   "source": [
    "**연습해보기**\n",
    "\n",
    "- 위 코드를 기반으로,\n",
    "- head 부터 특정 노드를 찾는 메서드 추가하기\n",
    "- tail부터 특정 노드를 찾는 메서드 추가하기"
   ]
  },
  {
   "cell_type": "code",
   "execution_count": 23,
   "id": "a3f5184e",
   "metadata": {},
   "outputs": [],
   "source": [
    "public class DoubleLinkedList<T> {\n",
    "\n",
    "    public Node<T> head = null;\n",
    "    \n",
    "    public Node<T> tail = null;\n",
    "    \n",
    "    public class Node<T> {\n",
    "    \n",
    "        T data;\n",
    "        \n",
    "        Node<T> prev = null;\n",
    "        \n",
    "        Node<T> next = null;\n",
    "    \n",
    "        public Node(T data) {\n",
    "            this.data = data;\n",
    "        }\n",
    "    \n",
    "    }\n",
    "    \n",
    "    public void addNode(T data) {\n",
    "        if (this.head == null) {\n",
    "            this.head = new Node<T>(data);\n",
    "            this.tail = this.head;\n",
    "            \n",
    "            return;\n",
    "        }\n",
    "        \n",
    "        Node<T> node = this.head;\n",
    "        while (node.next != null) {\n",
    "            node = node.next;\n",
    "        }\n",
    "            \n",
    "        node.next = new Node<T>(data);\n",
    "        node.next.prev = node;\n",
    "        this.tail = node.next;\n",
    "    }\n",
    "    \n",
    "    public void printAll() {\n",
    "        if (this.head != null) {\n",
    "            Node<T> node = this.head;\n",
    "            System.out.println(node.data);\n",
    "            while (node.next != null) {\n",
    "                node = node.next;\n",
    "                System.out.println(node.data);\n",
    "            }\n",
    "        }\n",
    "    }\n",
    "\n",
    "    public T searchFromHead(T isData) {\n",
    "        if (this.head == null) {\n",
    "            return null;\n",
    "        }\n",
    "        \n",
    "        Node<T> node = this.head;\n",
    "        while (node != null) {\n",
    "            if (node.data == isData) {\n",
    "                return node.data;\n",
    "            } else {\n",
    "                node = node.next;\n",
    "            }\n",
    "        }\n",
    "            \n",
    "        return null;\n",
    "    }\n",
    "\n",
    "\n",
    "    public T searchFromTail(T isData) {\n",
    "        if (this.head == null) {\n",
    "            return null;\n",
    "        }\n",
    "        \n",
    "        Node<T> node = this.tail;\n",
    "        while (node != null) {\n",
    "            if (node.data == isData) {\n",
    "                return node.data;\n",
    "            } else {\n",
    "                node = node.prev;\n",
    "            }\n",
    "        }\n",
    "            \n",
    "        return null;\n",
    "    }\n",
    "}"
   ]
  },
  {
   "cell_type": "code",
   "execution_count": 24,
   "id": "a5580e61",
   "metadata": {},
   "outputs": [
    {
     "name": "stdout",
     "output_type": "stream",
     "text": [
      "1\n",
      "2\n",
      "3\n",
      "4\n",
      "5\n"
     ]
    }
   ],
   "source": [
    "DoubleLinkedList<Integer> linkedList = new DoubleLinkedList<Integer>();\n",
    "\n",
    "linkedList.addNode(1);\n",
    "linkedList.addNode(2);\n",
    "linkedList.addNode(3);\n",
    "linkedList.addNode(4);\n",
    "linkedList.addNode(5);\n",
    "\n",
    "linkedList.printAll();"
   ]
  },
  {
   "cell_type": "code",
   "execution_count": 25,
   "id": "653a0ee6",
   "metadata": {},
   "outputs": [
    {
     "data": {
      "text/plain": [
       "1"
      ]
     },
     "execution_count": 25,
     "metadata": {},
     "output_type": "execute_result"
    }
   ],
   "source": [
    "linkedList.searchFromHead(1);"
   ]
  },
  {
   "cell_type": "code",
   "execution_count": 26,
   "id": "2fc9432a",
   "metadata": {},
   "outputs": [
    {
     "data": {
      "text/plain": [
       "1"
      ]
     },
     "execution_count": 26,
     "metadata": {},
     "output_type": "execute_result"
    }
   ],
   "source": [
    "linkedList.searchFromTail(1);"
   ]
  },
  {
   "cell_type": "code",
   "execution_count": 27,
   "id": "a16cf5d3",
   "metadata": {},
   "outputs": [],
   "source": [
    "linkedList.searchFromTail(6);"
   ]
  },
  {
   "cell_type": "markdown",
   "id": "150c2eb6",
   "metadata": {},
   "source": [
    "**연습해보기**\n",
    "\n",
    "- 위 코드를 기반으로,\n",
    "- 데이터를 임의 노드 **앞에 노드를 추가하는 메서드 추가하기**"
   ]
  },
  {
   "cell_type": "code",
   "execution_count": 28,
   "id": "41a5af31",
   "metadata": {},
   "outputs": [],
   "source": [
    "public class DoubleLinkedList<T> {\n",
    "\n",
    "    public Node<T> head = null;\n",
    "    \n",
    "    public Node<T> tail = null;\n",
    "    \n",
    "    public class Node<T> {\n",
    "    \n",
    "        T data;\n",
    "        \n",
    "        Node<T> prev = null;\n",
    "        \n",
    "        Node<T> next = null;\n",
    "    \n",
    "        public Node(T data) {\n",
    "            this.data = data;\n",
    "        }\n",
    "    \n",
    "    }\n",
    "    \n",
    "    public void addNode(T data) {\n",
    "        if (this.head == null) {\n",
    "            this.head = new Node<T>(data);\n",
    "            this.tail = this.head;\n",
    "            \n",
    "            return;\n",
    "        }\n",
    "        \n",
    "        Node<T> node = this.head;\n",
    "        while (node.next != null) {\n",
    "            node = node.next;\n",
    "        }\n",
    "            \n",
    "        node.next = new Node<T>(data);\n",
    "        node.next.prev = node;\n",
    "        this.tail = node.next;\n",
    "    }\n",
    "    \n",
    "    public void printAll() {\n",
    "        if (this.head != null) {\n",
    "            Node<T> node = this.head;\n",
    "            System.out.println(node.data);\n",
    "            while (node.next != null) {\n",
    "                node = node.next;\n",
    "                System.out.println(node.data);\n",
    "            }\n",
    "        }\n",
    "    }\n",
    "\n",
    "    public T searchFromHead(T isData) {\n",
    "        if (this.head == null) {\n",
    "            return null;\n",
    "        }\n",
    "        \n",
    "        Node<T> node = this.head;\n",
    "        while (node != null) {\n",
    "            if (node.data == isData) {\n",
    "                return node.data;\n",
    "            }\n",
    "            \n",
    "            node = node.next;\n",
    "        }\n",
    "            \n",
    "        return null;\n",
    "    }\n",
    "\n",
    "\n",
    "    public T searchFromTail(T isData) {\n",
    "        if (this.head == null) {\n",
    "            return null;\n",
    "        }\n",
    "        \n",
    "        Node<T> node = this.tail;\n",
    "        while (node != null) {\n",
    "            if (node.data == isData) {\n",
    "                return node.data;\n",
    "            }\n",
    "            \n",
    "            node = node.prev;\n",
    "        }\n",
    "            \n",
    "        return null;\n",
    "    }\n",
    "    \n",
    "    public boolean insertToFront(T existedData, T addData) {\n",
    "        if (this.head == null) {\n",
    "            this.head = new Node<T>(addData);\n",
    "            this.tail = this.head;\n",
    "            \n",
    "            return true;\n",
    "        } else if (this.head.data == existedData) {\n",
    "            Node<T> newHead = new Node<T>(addData);\n",
    "            newHead.next = this.head;\n",
    "            this.head = newHead;\n",
    "            \n",
    "            return true;\n",
    "        } else {\n",
    "            Node<T> node = this.head;\n",
    "            while (node != null) {\n",
    "                if (node.data == existedData) {\n",
    "                    Node<T> nodePrev = node.prev;\n",
    "                    \n",
    "                    nodePrev.next = new Node<T>(addData);\n",
    "                    nodePrev.next.next = node;\n",
    "                 \n",
    "                    nodePrev.next.prev = nodePrev;\n",
    "                    node.prev = nodePrev.next;\n",
    "                    \n",
    "                    return true;\n",
    "                }\n",
    "                \n",
    "                node = node.next;\n",
    "            }\n",
    "            \n",
    "        }\n",
    "        \n",
    "        return false;\n",
    "    }\n",
    "}"
   ]
  },
  {
   "cell_type": "code",
   "execution_count": 29,
   "id": "afdc6b5d",
   "metadata": {},
   "outputs": [
    {
     "name": "stdout",
     "output_type": "stream",
     "text": [
      "1\n",
      "2\n",
      "3\n",
      "4\n",
      "5\n"
     ]
    }
   ],
   "source": [
    "DoubleLinkedList<Integer> doubleLink = new DoubleLinkedList<Integer>();\n",
    "\n",
    "doubleLink.addNode(1);\n",
    "doubleLink.addNode(2);\n",
    "doubleLink.addNode(3);\n",
    "doubleLink.addNode(4);\n",
    "doubleLink.addNode(5);\n",
    "doubleLink.printAll();"
   ]
  },
  {
   "cell_type": "code",
   "execution_count": 30,
   "id": "cd0b7c32",
   "metadata": {},
   "outputs": [
    {
     "name": "stdout",
     "output_type": "stream",
     "text": [
      "1\n",
      "2\n",
      "2\n",
      "3\n",
      "4\n",
      "5\n"
     ]
    }
   ],
   "source": [
    "doubleLink.insertToFront(3, 2);\n",
    "doubleLink.printAll();"
   ]
  },
  {
   "cell_type": "code",
   "execution_count": 31,
   "id": "ff15dcb2",
   "metadata": {},
   "outputs": [
    {
     "name": "stdout",
     "output_type": "stream",
     "text": [
      "0\n",
      "1\n",
      "2\n",
      "2\n",
      "3\n",
      "4\n",
      "5\n"
     ]
    }
   ],
   "source": [
    "doubleLink.insertToFront(6, 2);\n",
    "doubleLink.insertToFront(1, 0);\n",
    "doubleLink.printAll();"
   ]
  },
  {
   "cell_type": "code",
   "execution_count": 32,
   "id": "37f58c0e",
   "metadata": {},
   "outputs": [
    {
     "name": "stdout",
     "output_type": "stream",
     "text": [
      "0\n",
      "1\n",
      "2\n",
      "2\n",
      "3\n",
      "4\n",
      "5\n",
      "6\n"
     ]
    }
   ],
   "source": [
    "doubleLink.addNode(6);\n",
    "doubleLink.printAll();"
   ]
  }
 ],
 "metadata": {
  "kernelspec": {
   "display_name": "Java",
   "language": "java",
   "name": "java"
  },
  "language_info": {
   "codemirror_mode": "java",
   "file_extension": ".jshell",
   "mimetype": "text/x-java-source",
   "name": "Java",
   "pygments_lexer": "java",
   "version": "11.0.14+8-LTS-263"
  }
 },
 "nbformat": 4,
 "nbformat_minor": 5
}
